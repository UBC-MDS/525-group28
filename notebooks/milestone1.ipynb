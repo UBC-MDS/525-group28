{
 "cells": [
  {
   "cell_type": "markdown",
   "id": "e90934d7-cc81-49a8-8dc2-a5f3cd54b87a",
   "metadata": {},
   "source": [
    "# Import packages"
   ]
  },
  {
   "cell_type": "code",
   "execution_count": 1,
   "id": "a88675c4-9179-4825-a338-1297a5ad5a39",
   "metadata": {},
   "outputs": [],
   "source": [
    "import re\n",
    "import os\n",
    "import glob\n",
    "import zipfile\n",
    "import requests\n",
    "from urllib.request import urlretrieve\n",
    "import json\n",
    "import pandas as pd"
   ]
  },
  {
   "cell_type": "markdown",
   "id": "5aa58b9c-4563-474d-997a-68b467eb7053",
   "metadata": {},
   "source": [
    "# Downloading data "
   ]
  },
  {
   "cell_type": "code",
   "execution_count": 2,
   "id": "55d29716-f9b0-4407-b12d-6977c83a57d2",
   "metadata": {},
   "outputs": [],
   "source": [
    "# Necessary metadata\n",
    "article_id = 14096681  # this is the unique identifier of the article\n",
    "url = f\"https://api.figshare.com/v2/articles/{article_id}\"\n",
    "headers = {\"Content-Type\": \"application/json\"}\n",
    "output_directory = \"figshareclimate_data/\""
   ]
  },
  {
   "cell_type": "code",
   "execution_count": 3,
   "id": "c7eb45a7-8988-48f6-ab2e-72277ce4be35",
   "metadata": {},
   "outputs": [],
   "source": [
    "response = requests.request(\"GET\", url, headers=headers)\n",
    "data = json.loads(response.text)\n",
    "files = data[\"files\"]"
   ]
  },
  {
   "cell_type": "code",
   "execution_count": 4,
   "id": "54a295d1-665d-49f4-99ff-65c35d08a990",
   "metadata": {},
   "outputs": [
    {
     "name": "stdout",
     "output_type": "stream",
     "text": [
      "CPU times: total: 10.1 s\n",
      "Wall time: 4min 4s\n"
     ]
    }
   ],
   "source": [
    "%%time\n",
    "files_to_dl = [\"data.zip\"]\n",
    "for file in files:\n",
    "    if file[\"name\"] in files_to_dl:\n",
    "        os.makedirs(output_directory, exist_ok=True)\n",
    "        urlretrieve(file[\"download_url\"], output_directory + file[\"name\"])"
   ]
  },
  {
   "cell_type": "markdown",
   "id": "b2c89c55-64e1-4ad2-bc66-62d0f5c9996f",
   "metadata": {},
   "source": [
    "## Extract contents of zipped file"
   ]
  },
  {
   "cell_type": "code",
   "execution_count": 5,
   "id": "3a047b5c-861f-4838-bf5f-cf2889e63b65",
   "metadata": {},
   "outputs": [
    {
     "name": "stdout",
     "output_type": "stream",
     "text": [
      "CPU times: total: 31.7 s\n",
      "Wall time: 31.9 s\n"
     ]
    }
   ],
   "source": [
    "%%time\n",
    "with zipfile.ZipFile(os.path.join(output_directory, \"data.zip\"), 'r') as f:\n",
    "    f.extractall(f'{output_directory}/data')"
   ]
  },
  {
   "cell_type": "markdown",
   "id": "baf8da1c-84e4-4f40-9d61-bd2e2e92cdc3",
   "metadata": {},
   "source": [
    "## Remove unused file"
   ]
  },
  {
   "cell_type": "code",
   "execution_count": 6,
   "id": "d414f991-67a8-4749-a275-214a56e0d038",
   "metadata": {},
   "outputs": [],
   "source": [
    "unused_file = os.path.join(\n",
    "    output_directory,\n",
    "    \"data/observed_daily_rainfall_SYD.csv\")\n",
    "if os.path.exists(unused_file):\n",
    "    os.remove(unused_file)"
   ]
  },
  {
   "cell_type": "markdown",
   "id": "540724f0-886b-47d5-85f4-423edc2956a2",
   "metadata": {},
   "source": [
    "# Combine data CSVs"
   ]
  },
  {
   "cell_type": "code",
   "execution_count": 7,
   "id": "650ae6a8-184e-4217-9d8d-964ceb180675",
   "metadata": {},
   "outputs": [
    {
     "name": "stdout",
     "output_type": "stream",
     "text": [
      "CPU times: total: 15min 11s\n",
      "Wall time: 15min 15s\n"
     ]
    }
   ],
   "source": [
    "%%time\n",
    "files = glob.glob('figshareclimate_data/data/*.csv')\n",
    "df = pd.concat(\n",
    "    (pd.read_csv(file, index_col=0, parse_dates=['time'])\n",
    "     .assign(model=re.findall(r'[^\\/]+(?=_daily_rainfall_NSW\\.)', file)[0])\n",
    "     for file in files)\n",
    ")\n",
    "df.to_csv(\"figshareclimate_data/combined_data.csv\")"
   ]
  },
  {
   "cell_type": "code",
   "execution_count": 8,
   "id": "2b942d2e-5441-4730-95f5-fb163e7c8ea9",
   "metadata": {},
   "outputs": [
    {
     "name": "stdout",
     "output_type": "stream",
     "text": [
      "(62467843, 6)\n"
     ]
    }
   ],
   "source": [
    "print(df.shape)"
   ]
  },
  {
   "cell_type": "code",
   "execution_count": 9,
   "id": "8692a1ba-9440-4e48-81b4-0f5f1cbfad58",
   "metadata": {},
   "outputs": [
    {
     "data": {
      "text/html": [
       "<div>\n",
       "<style scoped>\n",
       "    .dataframe tbody tr th:only-of-type {\n",
       "        vertical-align: middle;\n",
       "    }\n",
       "\n",
       "    .dataframe tbody tr th {\n",
       "        vertical-align: top;\n",
       "    }\n",
       "\n",
       "    .dataframe thead th {\n",
       "        text-align: right;\n",
       "    }\n",
       "</style>\n",
       "<table border=\"1\" class=\"dataframe\">\n",
       "  <thead>\n",
       "    <tr style=\"text-align: right;\">\n",
       "      <th></th>\n",
       "      <th>lat_min</th>\n",
       "      <th>lat_max</th>\n",
       "      <th>lon_min</th>\n",
       "      <th>lon_max</th>\n",
       "      <th>rain (mm/day)</th>\n",
       "      <th>model</th>\n",
       "    </tr>\n",
       "    <tr>\n",
       "      <th>time</th>\n",
       "      <th></th>\n",
       "      <th></th>\n",
       "      <th></th>\n",
       "      <th></th>\n",
       "      <th></th>\n",
       "      <th></th>\n",
       "    </tr>\n",
       "  </thead>\n",
       "  <tbody>\n",
       "    <tr>\n",
       "      <th>1889-01-01 12:00:00</th>\n",
       "      <td>-36.25</td>\n",
       "      <td>-35.0</td>\n",
       "      <td>140.625</td>\n",
       "      <td>142.5</td>\n",
       "      <td>3.293256e-13</td>\n",
       "      <td>data\\ACCESS-CM2</td>\n",
       "    </tr>\n",
       "    <tr>\n",
       "      <th>1889-01-02 12:00:00</th>\n",
       "      <td>-36.25</td>\n",
       "      <td>-35.0</td>\n",
       "      <td>140.625</td>\n",
       "      <td>142.5</td>\n",
       "      <td>0.000000e+00</td>\n",
       "      <td>data\\ACCESS-CM2</td>\n",
       "    </tr>\n",
       "    <tr>\n",
       "      <th>1889-01-03 12:00:00</th>\n",
       "      <td>-36.25</td>\n",
       "      <td>-35.0</td>\n",
       "      <td>140.625</td>\n",
       "      <td>142.5</td>\n",
       "      <td>0.000000e+00</td>\n",
       "      <td>data\\ACCESS-CM2</td>\n",
       "    </tr>\n",
       "    <tr>\n",
       "      <th>1889-01-04 12:00:00</th>\n",
       "      <td>-36.25</td>\n",
       "      <td>-35.0</td>\n",
       "      <td>140.625</td>\n",
       "      <td>142.5</td>\n",
       "      <td>0.000000e+00</td>\n",
       "      <td>data\\ACCESS-CM2</td>\n",
       "    </tr>\n",
       "    <tr>\n",
       "      <th>1889-01-05 12:00:00</th>\n",
       "      <td>-36.25</td>\n",
       "      <td>-35.0</td>\n",
       "      <td>140.625</td>\n",
       "      <td>142.5</td>\n",
       "      <td>1.047658e-02</td>\n",
       "      <td>data\\ACCESS-CM2</td>\n",
       "    </tr>\n",
       "  </tbody>\n",
       "</table>\n",
       "</div>"
      ],
      "text/plain": [
       "                     lat_min  lat_max  lon_min  lon_max  rain (mm/day)  \\\n",
       "time                                                                     \n",
       "1889-01-01 12:00:00   -36.25    -35.0  140.625    142.5   3.293256e-13   \n",
       "1889-01-02 12:00:00   -36.25    -35.0  140.625    142.5   0.000000e+00   \n",
       "1889-01-03 12:00:00   -36.25    -35.0  140.625    142.5   0.000000e+00   \n",
       "1889-01-04 12:00:00   -36.25    -35.0  140.625    142.5   0.000000e+00   \n",
       "1889-01-05 12:00:00   -36.25    -35.0  140.625    142.5   1.047658e-02   \n",
       "\n",
       "                               model  \n",
       "time                                  \n",
       "1889-01-01 12:00:00  data\\ACCESS-CM2  \n",
       "1889-01-02 12:00:00  data\\ACCESS-CM2  \n",
       "1889-01-03 12:00:00  data\\ACCESS-CM2  \n",
       "1889-01-04 12:00:00  data\\ACCESS-CM2  \n",
       "1889-01-05 12:00:00  data\\ACCESS-CM2  "
      ]
     },
     "execution_count": 9,
     "metadata": {},
     "output_type": "execute_result"
    }
   ],
   "source": [
    "df.head()"
   ]
  },
  {
   "cell_type": "code",
   "execution_count": 10,
   "id": "58615a3b-3047-4dff-8a9e-461a61192f08",
   "metadata": {},
   "outputs": [
    {
     "name": "stdout",
     "output_type": "stream",
     "text": [
      "<class 'pandas.core.frame.DataFrame'>\n",
      "DatetimeIndex: 62467843 entries, 1889-01-01 12:00:00 to 2014-12-31 12:00:00\n",
      "Data columns (total 6 columns):\n",
      " #   Column         Dtype  \n",
      "---  ------         -----  \n",
      " 0   lat_min        float64\n",
      " 1   lat_max        float64\n",
      " 2   lon_min        float64\n",
      " 3   lon_max        float64\n",
      " 4   rain (mm/day)  float64\n",
      " 5   model          object \n",
      "dtypes: float64(5), object(1)\n",
      "memory usage: 3.3+ GB\n"
     ]
    }
   ],
   "source": [
    "df.info()"
   ]
  },
  {
   "cell_type": "code",
   "execution_count": 11,
   "id": "f367e33d-1ae8-472b-ad64-ea296a0a2463",
   "metadata": {},
   "outputs": [
    {
     "data": {
      "text/plain": [
       "lat_min          float64\n",
       "lat_max          float64\n",
       "lon_min          float64\n",
       "lon_max          float64\n",
       "rain (mm/day)    float64\n",
       "model             object\n",
       "dtype: object"
      ]
     },
     "execution_count": 11,
     "metadata": {},
     "output_type": "execute_result"
    }
   ],
   "source": [
    "df.dtypes"
   ]
  },
  {
   "cell_type": "code",
   "execution_count": 15,
   "id": "640e1e9b-1527-4a87-a110-6f01dcce185f",
   "metadata": {},
   "outputs": [],
   "source": [
    "# check size of full csv on disk\n",
    "#from nicenumber import nicenumber as nn\n",
    "#nn.to_human(p_combined.stat().st_size, prec=1, family='filesize')"
   ]
  },
  {
   "cell_type": "markdown",
   "id": "c2c45333-13d0-43b0-8f38-68d066439da9",
   "metadata": {},
   "source": [
    "## Combine data csv on different machines"
   ]
  },
  {
   "cell_type": "markdown",
   "id": "3b79ae1e-b2a3-4035-a819-1493e78bb767",
   "metadata": {},
   "source": [
    "| Team Member            | Operating System | RAM | Processor | Is SSD | Time taken |\n",
    "|:----------------------:|:----------------:|:---:|:---------:|:------:|:----------:|\n",
    "| Kingslin Lv            | Windows          | 16GB|    i7      | No     | 15min 15s   |\n",
    "| Sufang Tan             |     |           |        |            |\n",
    "| Amir Abbas Shojakhani  |     |           |        |            |"
   ]
  },
  {
   "cell_type": "markdown",
   "id": "3aa3697d-15ef-4403-bf7a-7b0c7b40c306",
   "metadata": {},
   "source": [
    "# EDA"
   ]
  },
  {
   "cell_type": "code",
   "execution_count": null,
   "id": "1cf75611-fac4-443c-8d44-a49ac7bef3fc",
   "metadata": {},
   "outputs": [],
   "source": []
  }
 ],
 "metadata": {
  "kernelspec": {
   "display_name": "Python [conda env:525_2022]",
   "language": "python",
   "name": "conda-env-525_2022-py"
  },
  "language_info": {
   "codemirror_mode": {
    "name": "ipython",
    "version": 3
   },
   "file_extension": ".py",
   "mimetype": "text/x-python",
   "name": "python",
   "nbconvert_exporter": "python",
   "pygments_lexer": "ipython3",
   "version": "3.8.6"
  }
 },
 "nbformat": 4,
 "nbformat_minor": 5
}

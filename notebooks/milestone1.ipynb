{
 "cells": [
  {
   "cell_type": "markdown",
   "source": [
    "# Import packages"
   ],
   "metadata": {}
  },
  {
   "cell_type": "code",
   "execution_count": 15,
   "source": [
    "import re\n",
    "import os\n",
    "import glob\n",
    "import zipfile\n",
    "import requests\n",
    "from urllib.request import urlretrieve\n",
    "import json\n",
    "import pandas as pd\n",
    "import numpy as np"
   ],
   "outputs": [],
   "metadata": {}
  },
  {
   "cell_type": "markdown",
   "source": [
    "# Downloading data "
   ],
   "metadata": {}
  },
  {
   "cell_type": "code",
   "execution_count": 3,
   "source": [
    "# Necessary metadata\n",
    "article_id = 14096681  # this is the unique identifier of the article\n",
    "url = f\"https://api.figshare.com/v2/articles/{article_id}\"\n",
    "headers = {\"Content-Type\": \"application/json\"}\n",
    "output_directory = \"figshareclimate_data/\""
   ],
   "outputs": [],
   "metadata": {}
  },
  {
   "cell_type": "code",
   "execution_count": 4,
   "source": [
    "response = requests.request(\"GET\", url, headers=headers)\n",
    "data = json.loads(response.text)\n",
    "files = data[\"files\"]"
   ],
   "outputs": [],
   "metadata": {}
  },
  {
   "cell_type": "code",
   "execution_count": 5,
   "source": [
    "%%time\n",
    "files_to_dl = [\"data.zip\"]\n",
    "for file in files:\n",
    "    if file[\"name\"] in files_to_dl:\n",
    "        os.makedirs(output_directory, exist_ok=True)\n",
    "        urlretrieve(file[\"download_url\"], output_directory + file[\"name\"])"
   ],
   "outputs": [
    {
     "output_type": "stream",
     "name": "stdout",
     "text": [
      "CPU times: user 3.02 s, sys: 3.4 s, total: 6.41 s\n",
      "Wall time: 47 s\n"
     ]
    }
   ],
   "metadata": {}
  },
  {
   "cell_type": "markdown",
   "source": [
    "## Extract contents of zipped file"
   ],
   "metadata": {}
  },
  {
   "cell_type": "code",
   "execution_count": 6,
   "source": [
    "%%time\n",
    "with zipfile.ZipFile(os.path.join(output_directory, \"data.zip\"), 'r') as f:\n",
    "    f.extractall(f'{output_directory}/data')"
   ],
   "outputs": [
    {
     "output_type": "stream",
     "name": "stdout",
     "text": [
      "CPU times: user 16.7 s, sys: 2.65 s, total: 19.3 s\n",
      "Wall time: 19.5 s\n"
     ]
    }
   ],
   "metadata": {}
  },
  {
   "cell_type": "markdown",
   "source": [
    "## Remove unused file"
   ],
   "metadata": {}
  },
  {
   "cell_type": "code",
   "execution_count": 7,
   "source": [
    "unused_file = os.path.join(\n",
    "    output_directory,\n",
    "    \"data/observed_daily_rainfall_SYD.csv\")\n",
    "if os.path.exists(unused_file):\n",
    "    os.remove(unused_file)"
   ],
   "outputs": [],
   "metadata": {}
  },
  {
   "cell_type": "markdown",
   "source": [
    "# Combine data CSVs"
   ],
   "metadata": {}
  },
  {
   "cell_type": "code",
   "execution_count": 8,
   "source": [
    "%%time\n",
    "files = glob.glob('figshareclimate_data/data/*.csv')\n",
    "df = pd.concat(\n",
    "    (pd.read_csv(file, index_col=0, parse_dates=['time'])\n",
    "     .assign(model=re.findall(r'[^\\/]+(?=_daily_rainfall_NSW\\.)', file)[0])\n",
    "     for file in files)\n",
    ")\n",
    "df.to_csv(\"figshareclimate_data/combined_data.csv\")"
   ],
   "outputs": [
    {
     "output_type": "stream",
     "name": "stdout",
     "text": [
      "CPU times: user 8min 5s, sys: 17.2 s, total: 8min 22s\n",
      "Wall time: 8min 32s\n"
     ]
    }
   ],
   "metadata": {}
  },
  {
   "cell_type": "code",
   "execution_count": 9,
   "source": [
    "print(df.shape)"
   ],
   "outputs": [
    {
     "output_type": "stream",
     "name": "stdout",
     "text": [
      "(62467843, 6)\n"
     ]
    }
   ],
   "metadata": {}
  },
  {
   "cell_type": "code",
   "execution_count": 10,
   "source": [
    "df.head()"
   ],
   "outputs": [
    {
     "output_type": "execute_result",
     "data": {
      "text/plain": [
       "                       lat_min    lat_max   lon_min   lon_max  rain (mm/day)  \\\n",
       "time                                                                           \n",
       "1889-01-01 12:00:00 -35.439867 -33.574619  141.5625  143.4375   4.244226e-13   \n",
       "1889-01-02 12:00:00 -35.439867 -33.574619  141.5625  143.4375   4.217326e-13   \n",
       "1889-01-03 12:00:00 -35.439867 -33.574619  141.5625  143.4375   4.498125e-13   \n",
       "1889-01-04 12:00:00 -35.439867 -33.574619  141.5625  143.4375   4.251282e-13   \n",
       "1889-01-05 12:00:00 -35.439867 -33.574619  141.5625  143.4375   4.270161e-13   \n",
       "\n",
       "                               model  \n",
       "time                                  \n",
       "1889-01-01 12:00:00  MPI-ESM-1-2-HAM  \n",
       "1889-01-02 12:00:00  MPI-ESM-1-2-HAM  \n",
       "1889-01-03 12:00:00  MPI-ESM-1-2-HAM  \n",
       "1889-01-04 12:00:00  MPI-ESM-1-2-HAM  \n",
       "1889-01-05 12:00:00  MPI-ESM-1-2-HAM  "
      ],
      "text/html": [
       "<div>\n",
       "<style scoped>\n",
       "    .dataframe tbody tr th:only-of-type {\n",
       "        vertical-align: middle;\n",
       "    }\n",
       "\n",
       "    .dataframe tbody tr th {\n",
       "        vertical-align: top;\n",
       "    }\n",
       "\n",
       "    .dataframe thead th {\n",
       "        text-align: right;\n",
       "    }\n",
       "</style>\n",
       "<table border=\"1\" class=\"dataframe\">\n",
       "  <thead>\n",
       "    <tr style=\"text-align: right;\">\n",
       "      <th></th>\n",
       "      <th>lat_min</th>\n",
       "      <th>lat_max</th>\n",
       "      <th>lon_min</th>\n",
       "      <th>lon_max</th>\n",
       "      <th>rain (mm/day)</th>\n",
       "      <th>model</th>\n",
       "    </tr>\n",
       "    <tr>\n",
       "      <th>time</th>\n",
       "      <th></th>\n",
       "      <th></th>\n",
       "      <th></th>\n",
       "      <th></th>\n",
       "      <th></th>\n",
       "      <th></th>\n",
       "    </tr>\n",
       "  </thead>\n",
       "  <tbody>\n",
       "    <tr>\n",
       "      <th>1889-01-01 12:00:00</th>\n",
       "      <td>-35.439867</td>\n",
       "      <td>-33.574619</td>\n",
       "      <td>141.5625</td>\n",
       "      <td>143.4375</td>\n",
       "      <td>4.244226e-13</td>\n",
       "      <td>MPI-ESM-1-2-HAM</td>\n",
       "    </tr>\n",
       "    <tr>\n",
       "      <th>1889-01-02 12:00:00</th>\n",
       "      <td>-35.439867</td>\n",
       "      <td>-33.574619</td>\n",
       "      <td>141.5625</td>\n",
       "      <td>143.4375</td>\n",
       "      <td>4.217326e-13</td>\n",
       "      <td>MPI-ESM-1-2-HAM</td>\n",
       "    </tr>\n",
       "    <tr>\n",
       "      <th>1889-01-03 12:00:00</th>\n",
       "      <td>-35.439867</td>\n",
       "      <td>-33.574619</td>\n",
       "      <td>141.5625</td>\n",
       "      <td>143.4375</td>\n",
       "      <td>4.498125e-13</td>\n",
       "      <td>MPI-ESM-1-2-HAM</td>\n",
       "    </tr>\n",
       "    <tr>\n",
       "      <th>1889-01-04 12:00:00</th>\n",
       "      <td>-35.439867</td>\n",
       "      <td>-33.574619</td>\n",
       "      <td>141.5625</td>\n",
       "      <td>143.4375</td>\n",
       "      <td>4.251282e-13</td>\n",
       "      <td>MPI-ESM-1-2-HAM</td>\n",
       "    </tr>\n",
       "    <tr>\n",
       "      <th>1889-01-05 12:00:00</th>\n",
       "      <td>-35.439867</td>\n",
       "      <td>-33.574619</td>\n",
       "      <td>141.5625</td>\n",
       "      <td>143.4375</td>\n",
       "      <td>4.270161e-13</td>\n",
       "      <td>MPI-ESM-1-2-HAM</td>\n",
       "    </tr>\n",
       "  </tbody>\n",
       "</table>\n",
       "</div>"
      ]
     },
     "metadata": {},
     "execution_count": 10
    }
   ],
   "metadata": {}
  },
  {
   "cell_type": "code",
   "execution_count": 11,
   "source": [
    "df.info()"
   ],
   "outputs": [
    {
     "output_type": "stream",
     "name": "stdout",
     "text": [
      "<class 'pandas.core.frame.DataFrame'>\n",
      "DatetimeIndex: 62467843 entries, 1889-01-01 12:00:00 to 2014-12-31 12:00:00\n",
      "Data columns (total 6 columns):\n",
      " #   Column         Dtype  \n",
      "---  ------         -----  \n",
      " 0   lat_min        float64\n",
      " 1   lat_max        float64\n",
      " 2   lon_min        float64\n",
      " 3   lon_max        float64\n",
      " 4   rain (mm/day)  float64\n",
      " 5   model          object \n",
      "dtypes: float64(5), object(1)\n",
      "memory usage: 3.3+ GB\n"
     ]
    }
   ],
   "metadata": {}
  },
  {
   "cell_type": "code",
   "execution_count": 12,
   "source": [
    "df.dtypes"
   ],
   "outputs": [
    {
     "output_type": "execute_result",
     "data": {
      "text/plain": [
       "lat_min          float64\n",
       "lat_max          float64\n",
       "lon_min          float64\n",
       "lon_max          float64\n",
       "rain (mm/day)    float64\n",
       "model             object\n",
       "dtype: object"
      ]
     },
     "metadata": {},
     "execution_count": 12
    }
   ],
   "metadata": {}
  },
  {
   "cell_type": "markdown",
   "source": [
    "## Combine data csv on different machines"
   ],
   "metadata": {}
  },
  {
   "cell_type": "markdown",
   "source": [
    "| Team Member            | Operating System | RAM | Processor | Is SSD | Time taken |\n",
    "|:----------------------:|:----------------:|:---:|:---------:|:------:|:----------:|\n",
    "| Kingslin Lv            | Windows          | 16GB|    i7      | Yes     | 15min 15s   |\n",
    "| Sufang Tan             |     |           |        |            |\n",
    "| Amir Abbas Shojakhani  |Mac OS     |16GB           |i7       |Yes           |08min 50s"
   ],
   "metadata": {}
  },
  {
   "cell_type": "markdown",
   "source": [
    "# EDA-Python"
   ],
   "metadata": {}
  },
  {
   "cell_type": "markdown",
   "source": [
    "## 1st Approach - Changing dtype of the data"
   ],
   "metadata": {}
  },
  {
   "cell_type": "markdown",
   "source": [
    "### Value counts with base data types"
   ],
   "metadata": {}
  },
  {
   "cell_type": "code",
   "execution_count": 14,
   "source": [
    "%%time\n",
    "df.value_counts()"
   ],
   "outputs": [
    {
     "output_type": "stream",
     "name": "stdout",
     "text": [
      "CPU times: user 1min 29s, sys: 15.7 s, total: 1min 44s\n",
      "Wall time: 1min 47s\n"
     ]
    },
    {
     "output_type": "execute_result",
     "data": {
      "text/plain": [
       "lat_min  lat_max  lon_min   lon_max   rain (mm/day)  model        \n",
       "-30.625  -29.375  141.5625  143.4375  0.000000       ACCESS-ESM1-5    15271\n",
       "-31.875  -30.625  141.5625  143.4375  0.000000       ACCESS-ESM1-5    13850\n",
       "-30.625  -29.375  143.4375  145.3125  0.000000       ACCESS-ESM1-5    13615\n",
       "-31.875  -30.625  143.4375  145.3125  0.000000       ACCESS-ESM1-5    12638\n",
       "-33.125  -31.875  141.5625  143.4375  0.000000       ACCESS-ESM1-5    12112\n",
       "                                                                      ...  \n",
       "-34.000  -33.000  148.7500  150.0000  0.000702       GFDL-CM4             1\n",
       "                                      0.000704       GFDL-CM4             1\n",
       "                                                     GFDL-CM4             1\n",
       "                                                     GFDL-CM4             1\n",
       "-29.900  -29.100  152.7250  153.5250  199.089043     FGOALS-f3-L          1\n",
       "Length: 55839634, dtype: int64"
      ]
     },
     "metadata": {},
     "execution_count": 14
    }
   ],
   "metadata": {}
  },
  {
   "cell_type": "markdown",
   "source": [
    "Value counts with dtype conversion from float64 to float32"
   ],
   "metadata": {}
  },
  {
   "cell_type": "code",
   "execution_count": 21,
   "source": [
    "df_conv = df.copy()\n",
    "df_conv['lat_min'] = np.float32(df_conv[\"lat_min\"])\n",
    "df_conv['lat_max'] = np.float32(df_conv[\"lat_max\"])\n",
    "df_conv['lon_min'] = np.float32(df_conv[\"lon_min\"])\n",
    "df_conv['lon_max'] = np.float32(df_conv[\"lon_max\"])"
   ],
   "outputs": [],
   "metadata": {}
  },
  {
   "cell_type": "code",
   "execution_count": 22,
   "source": [
    "%%time\n",
    "df.value_counts()"
   ],
   "outputs": [
    {
     "output_type": "stream",
     "name": "stdout",
     "text": [
      "CPU times: user 1min 29s, sys: 17.9 s, total: 1min 47s\n",
      "Wall time: 1min 49s\n"
     ]
    },
    {
     "output_type": "execute_result",
     "data": {
      "text/plain": [
       "lat_min  lat_max  lon_min     lon_max     rain (mm/day)  model        \n",
       "-30.625  -29.375  141.562500  143.437500  0.000000       ACCESS-ESM1-5    15271\n",
       "-31.875  -30.625  141.562500  143.437500  0.000000       ACCESS-ESM1-5    13850\n",
       "-30.625  -29.375  143.437500  145.312500  0.000000       ACCESS-ESM1-5    13615\n",
       "-31.875  -30.625  143.437500  145.312500  0.000000       ACCESS-ESM1-5    12638\n",
       "-33.125  -31.875  141.562500  143.437500  0.000000       ACCESS-ESM1-5    12112\n",
       "                                                                          ...  \n",
       "-34.000  -33.000  148.750000  150.000000  0.000702       GFDL-CM4             1\n",
       "                                          0.000704       GFDL-CM4             1\n",
       "                                                         GFDL-CM4             1\n",
       "                                                         GFDL-CM4             1\n",
       "-29.900  -29.100  152.725006  153.524994  199.089043     FGOALS-f3-L          1\n",
       "Length: 55839634, dtype: int64"
      ]
     },
     "metadata": {},
     "execution_count": 22
    }
   ],
   "metadata": {}
  },
  {
   "cell_type": "markdown",
   "source": [
    "## 2nd Approach - Load just columns we want"
   ],
   "metadata": {}
  },
  {
   "cell_type": "code",
   "execution_count": 31,
   "source": [
    "df_reduced = df[['lat_min', 'lat_max', 'lon_min', 'lon_max']]\n",
    "df_reduced = df_reduced.reset_index().drop('time', axis=1)\n",
    "df_reduced.head()"
   ],
   "outputs": [
    {
     "output_type": "execute_result",
     "data": {
      "text/plain": [
       "     lat_min    lat_max   lon_min   lon_max\n",
       "0 -35.439865 -33.574619  141.5625  143.4375\n",
       "1 -35.439865 -33.574619  141.5625  143.4375\n",
       "2 -35.439865 -33.574619  141.5625  143.4375\n",
       "3 -35.439865 -33.574619  141.5625  143.4375\n",
       "4 -35.439865 -33.574619  141.5625  143.4375"
      ],
      "text/html": [
       "<div>\n",
       "<style scoped>\n",
       "    .dataframe tbody tr th:only-of-type {\n",
       "        vertical-align: middle;\n",
       "    }\n",
       "\n",
       "    .dataframe tbody tr th {\n",
       "        vertical-align: top;\n",
       "    }\n",
       "\n",
       "    .dataframe thead th {\n",
       "        text-align: right;\n",
       "    }\n",
       "</style>\n",
       "<table border=\"1\" class=\"dataframe\">\n",
       "  <thead>\n",
       "    <tr style=\"text-align: right;\">\n",
       "      <th></th>\n",
       "      <th>lat_min</th>\n",
       "      <th>lat_max</th>\n",
       "      <th>lon_min</th>\n",
       "      <th>lon_max</th>\n",
       "    </tr>\n",
       "  </thead>\n",
       "  <tbody>\n",
       "    <tr>\n",
       "      <th>0</th>\n",
       "      <td>-35.439865</td>\n",
       "      <td>-33.574619</td>\n",
       "      <td>141.5625</td>\n",
       "      <td>143.4375</td>\n",
       "    </tr>\n",
       "    <tr>\n",
       "      <th>1</th>\n",
       "      <td>-35.439865</td>\n",
       "      <td>-33.574619</td>\n",
       "      <td>141.5625</td>\n",
       "      <td>143.4375</td>\n",
       "    </tr>\n",
       "    <tr>\n",
       "      <th>2</th>\n",
       "      <td>-35.439865</td>\n",
       "      <td>-33.574619</td>\n",
       "      <td>141.5625</td>\n",
       "      <td>143.4375</td>\n",
       "    </tr>\n",
       "    <tr>\n",
       "      <th>3</th>\n",
       "      <td>-35.439865</td>\n",
       "      <td>-33.574619</td>\n",
       "      <td>141.5625</td>\n",
       "      <td>143.4375</td>\n",
       "    </tr>\n",
       "    <tr>\n",
       "      <th>4</th>\n",
       "      <td>-35.439865</td>\n",
       "      <td>-33.574619</td>\n",
       "      <td>141.5625</td>\n",
       "      <td>143.4375</td>\n",
       "    </tr>\n",
       "  </tbody>\n",
       "</table>\n",
       "</div>"
      ]
     },
     "metadata": {},
     "execution_count": 31
    }
   ],
   "metadata": {}
  },
  {
   "cell_type": "code",
   "execution_count": 33,
   "source": [
    "%%time\n",
    "df.value_counts()"
   ],
   "outputs": [
    {
     "output_type": "stream",
     "name": "stdout",
     "text": [
      "CPU times: user 1min 29s, sys: 19.1 s, total: 1min 48s\n",
      "Wall time: 1min 53s\n"
     ]
    },
    {
     "output_type": "execute_result",
     "data": {
      "text/plain": [
       "lat_min  lat_max  lon_min     lon_max     rain (mm/day)  model        \n",
       "-30.625  -29.375  141.562500  143.437500  0.000000       ACCESS-ESM1-5    15271\n",
       "-31.875  -30.625  141.562500  143.437500  0.000000       ACCESS-ESM1-5    13850\n",
       "-30.625  -29.375  143.437500  145.312500  0.000000       ACCESS-ESM1-5    13615\n",
       "-31.875  -30.625  143.437500  145.312500  0.000000       ACCESS-ESM1-5    12638\n",
       "-33.125  -31.875  141.562500  143.437500  0.000000       ACCESS-ESM1-5    12112\n",
       "                                                                          ...  \n",
       "-34.000  -33.000  148.750000  150.000000  0.000702       GFDL-CM4             1\n",
       "                                          0.000704       GFDL-CM4             1\n",
       "                                                         GFDL-CM4             1\n",
       "                                                         GFDL-CM4             1\n",
       "-29.900  -29.100  152.725006  153.524994  199.089043     FGOALS-f3-L          1\n",
       "Length: 55839634, dtype: int64"
      ]
     },
     "metadata": {},
     "execution_count": 33
    }
   ],
   "metadata": {}
  },
  {
   "cell_type": "markdown",
   "source": [
    "| Team Member            | Operating System | RAM | Processor | Is SSD | Time taken for EDA on base dataframe |Time taken for EDA after changing dtypes |Time taken for EDA after reducing features|\n",
    "|:----------------------:|:----------------:|:---:|:---------:|:------:|:----------:|:----------:|:----------:|\n",
    "| Kingslin Lv            | Windows          | 16GB|    i7      | Yes     |   |   |   |\n",
    "| Sufang Tan             |     |           |        |            |            |            |\n",
    "| Amir Abbas Shojakhani  |Mac OS     |16GB           |i7       |Yes           |01min 47s|01min 49s|01min 53s|"
   ],
   "metadata": {}
  },
  {
   "cell_type": "code",
   "execution_count": null,
   "source": [],
   "outputs": [],
   "metadata": {}
  }
 ],
 "metadata": {
  "kernelspec": {
   "name": "python3",
   "display_name": "Python 3.8.6 64-bit ('525_2022': conda)"
  },
  "language_info": {
   "codemirror_mode": {
    "name": "ipython",
    "version": 3
   },
   "file_extension": ".py",
   "mimetype": "text/x-python",
   "name": "python",
   "nbconvert_exporter": "python",
   "pygments_lexer": "ipython3",
   "version": "3.8.6"
  },
  "interpreter": {
   "hash": "8941477f0483abbc359bb5aea3a7a41e4eb67465ccc023fc86439211c0b95b90"
  }
 },
 "nbformat": 4,
 "nbformat_minor": 5
}
{
 "cells": [
  {
   "cell_type": "markdown",
   "id": "995c4264",
   "metadata": {},
   "source": [
    "# Daily Rainfall Prediction in Australia - 525 Group 28\n",
    "\n",
    "This notebook is to be run in the DSCI525 conda environment. You can download and install the [conda environment file](https://github.ubc.ca/mds-2021-22/DSCI_525_web-cloud-comp_students/blob/master/525.yml) and create a conda environment for the notebook and activate it as follows.\n",
    "\n",
    "```Python\n",
    "conda env create -f 525.yml\n",
    "conda activate 525\n",
    "```\n",
    "\n",
    "When running please make sure to clone the [GitHub Repo](https://github.com/UBC-MDS/525-group28). Below we will install and load some extra dependencies, you will need to restart the kernel after installed them for the first time."
   ]
  },
  {
   "cell_type": "markdown",
   "id": "da031c2d-dc2d-4e0e-9c65-317997c92dda",
   "metadata": {},
   "source": [
    "# Import packages"
   ]
  },
  {
   "cell_type": "code",
   "execution_count": 1,
   "id": "a5437d60",
   "metadata": {},
   "outputs": [],
   "source": [
    "import re\n",
    "import os\n",
    "import glob\n",
    "import zipfile\n",
    "import requests\n",
    "from urllib.request import urlretrieve\n",
    "import json\n",
    "import pandas as pd\n",
    "import numpy as np"
   ]
  },
  {
   "cell_type": "markdown",
   "id": "7b9fbbb3",
   "metadata": {},
   "source": [
    "# Downloading data "
   ]
  },
  {
   "cell_type": "code",
   "execution_count": 2,
   "id": "47160ed7",
   "metadata": {},
   "outputs": [],
   "source": [
    "# Necessary metadata\n",
    "article_id = 14096681  # this is the unique identifier of the article\n",
    "url = f\"https://api.figshare.com/v2/articles/{article_id}\"\n",
    "headers = {\"Content-Type\": \"application/json\"}\n",
    "output_directory = \"figshareclimate_data/\""
   ]
  },
  {
   "cell_type": "code",
   "execution_count": 3,
   "id": "dd172d65",
   "metadata": {},
   "outputs": [],
   "source": [
    "response = requests.request(\"GET\", url, headers=headers)\n",
    "data = json.loads(response.text)\n",
    "files = data[\"files\"]"
   ]
  },
  {
   "cell_type": "code",
   "execution_count": 4,
   "id": "21fb0e48",
   "metadata": {},
   "outputs": [
    {
     "name": "stdout",
     "output_type": "stream",
     "text": [
      "CPU times: user 3.42 s, sys: 3.4 s, total: 6.81 s\n",
      "Wall time: 32.5 s\n"
     ]
    }
   ],
   "source": [
    "%%time\n",
    "files_to_dl = [\"data.zip\"]\n",
    "for file in files:\n",
    "    if file[\"name\"] in files_to_dl:\n",
    "        os.makedirs(output_directory, exist_ok=True)\n",
    "        urlretrieve(file[\"download_url\"], output_directory + file[\"name\"])"
   ]
  },
  {
   "cell_type": "markdown",
   "id": "ad0a9870",
   "metadata": {},
   "source": [
    "## Extract contents of zipped file"
   ]
  },
  {
   "cell_type": "code",
   "execution_count": 5,
   "id": "24a694fd",
   "metadata": {},
   "outputs": [
    {
     "name": "stdout",
     "output_type": "stream",
     "text": [
      "CPU times: user 21.4 s, sys: 3.96 s, total: 25.4 s\n",
      "Wall time: 32.7 s\n"
     ]
    }
   ],
   "source": [
    "%%time\n",
    "with zipfile.ZipFile(os.path.join(output_directory, \"data.zip\"), 'r') as f:\n",
    "    f.extractall(f'{output_directory}/data')"
   ]
  },
  {
   "cell_type": "markdown",
   "id": "541c4ef0",
   "metadata": {},
   "source": [
    "## Remove unused file"
   ]
  },
  {
   "cell_type": "code",
   "execution_count": 6,
   "id": "f36ee009",
   "metadata": {},
   "outputs": [],
   "source": [
    "unused_file = os.path.join(\n",
    "    output_directory,\n",
    "    \"data/observed_daily_rainfall_SYD.csv\")\n",
    "if os.path.exists(unused_file):\n",
    "    os.remove(unused_file)"
   ]
  },
  {
   "cell_type": "markdown",
   "id": "ae4b23f5",
   "metadata": {},
   "source": [
    "# Combine data CSVs"
   ]
  },
  {
   "cell_type": "code",
   "execution_count": 7,
   "id": "6f165563",
   "metadata": {},
   "outputs": [
    {
     "name": "stdout",
     "output_type": "stream",
     "text": [
      "CPU times: user 8min 11s, sys: 22.2 s, total: 8min 33s\n",
      "Wall time: 8min 50s\n"
     ]
    }
   ],
   "source": [
    "%%time\n",
    "files = glob.glob('figshareclimate_data/data/*.csv')\n",
    "df = pd.concat(\n",
    "    (pd.read_csv(file, index_col=0, parse_dates=['time'])\n",
    "     .assign(model=re.findall(r'[^\\/]+(?=_daily_rainfall_NSW\\.)', file)[0])\n",
    "     for file in files)\n",
    ")\n",
    "df.to_csv(\"figshareclimate_data/combined_data.csv\")"
   ]
  },
  {
   "cell_type": "code",
   "execution_count": 8,
   "id": "de2c57f1",
   "metadata": {},
   "outputs": [
    {
     "name": "stdout",
     "output_type": "stream",
     "text": [
      "(62467843, 6)\n"
     ]
    }
   ],
   "source": [
    "print(df.shape)"
   ]
  },
  {
   "cell_type": "code",
   "execution_count": 7,
   "id": "43506142-ef88-43ab-889c-06d7c81c996a",
   "metadata": {},
   "outputs": [],
   "source": [
    "df= pd.read_csv(\"figshareclimate_data/combined_data.csv\")"
   ]
  },
  {
   "cell_type": "code",
   "execution_count": 9,
   "id": "1bac961d",
   "metadata": {},
   "outputs": [
    {
     "data": {
      "text/html": [
       "<div>\n",
       "<style scoped>\n",
       "    .dataframe tbody tr th:only-of-type {\n",
       "        vertical-align: middle;\n",
       "    }\n",
       "\n",
       "    .dataframe tbody tr th {\n",
       "        vertical-align: top;\n",
       "    }\n",
       "\n",
       "    .dataframe thead th {\n",
       "        text-align: right;\n",
       "    }\n",
       "</style>\n",
       "<table border=\"1\" class=\"dataframe\">\n",
       "  <thead>\n",
       "    <tr style=\"text-align: right;\">\n",
       "      <th></th>\n",
       "      <th>lat_min</th>\n",
       "      <th>lat_max</th>\n",
       "      <th>lon_min</th>\n",
       "      <th>lon_max</th>\n",
       "      <th>rain (mm/day)</th>\n",
       "      <th>model</th>\n",
       "    </tr>\n",
       "    <tr>\n",
       "      <th>time</th>\n",
       "      <th></th>\n",
       "      <th></th>\n",
       "      <th></th>\n",
       "      <th></th>\n",
       "      <th></th>\n",
       "      <th></th>\n",
       "    </tr>\n",
       "  </thead>\n",
       "  <tbody>\n",
       "    <tr>\n",
       "      <th>1889-01-01 12:00:00</th>\n",
       "      <td>-35.439867</td>\n",
       "      <td>-33.574619</td>\n",
       "      <td>141.5625</td>\n",
       "      <td>143.4375</td>\n",
       "      <td>4.244226e-13</td>\n",
       "      <td>MPI-ESM-1-2-HAM</td>\n",
       "    </tr>\n",
       "    <tr>\n",
       "      <th>1889-01-02 12:00:00</th>\n",
       "      <td>-35.439867</td>\n",
       "      <td>-33.574619</td>\n",
       "      <td>141.5625</td>\n",
       "      <td>143.4375</td>\n",
       "      <td>4.217326e-13</td>\n",
       "      <td>MPI-ESM-1-2-HAM</td>\n",
       "    </tr>\n",
       "    <tr>\n",
       "      <th>1889-01-03 12:00:00</th>\n",
       "      <td>-35.439867</td>\n",
       "      <td>-33.574619</td>\n",
       "      <td>141.5625</td>\n",
       "      <td>143.4375</td>\n",
       "      <td>4.498125e-13</td>\n",
       "      <td>MPI-ESM-1-2-HAM</td>\n",
       "    </tr>\n",
       "    <tr>\n",
       "      <th>1889-01-04 12:00:00</th>\n",
       "      <td>-35.439867</td>\n",
       "      <td>-33.574619</td>\n",
       "      <td>141.5625</td>\n",
       "      <td>143.4375</td>\n",
       "      <td>4.251282e-13</td>\n",
       "      <td>MPI-ESM-1-2-HAM</td>\n",
       "    </tr>\n",
       "    <tr>\n",
       "      <th>1889-01-05 12:00:00</th>\n",
       "      <td>-35.439867</td>\n",
       "      <td>-33.574619</td>\n",
       "      <td>141.5625</td>\n",
       "      <td>143.4375</td>\n",
       "      <td>4.270161e-13</td>\n",
       "      <td>MPI-ESM-1-2-HAM</td>\n",
       "    </tr>\n",
       "  </tbody>\n",
       "</table>\n",
       "</div>"
      ],
      "text/plain": [
       "                       lat_min    lat_max   lon_min   lon_max  rain (mm/day)  \\\n",
       "time                                                                           \n",
       "1889-01-01 12:00:00 -35.439867 -33.574619  141.5625  143.4375   4.244226e-13   \n",
       "1889-01-02 12:00:00 -35.439867 -33.574619  141.5625  143.4375   4.217326e-13   \n",
       "1889-01-03 12:00:00 -35.439867 -33.574619  141.5625  143.4375   4.498125e-13   \n",
       "1889-01-04 12:00:00 -35.439867 -33.574619  141.5625  143.4375   4.251282e-13   \n",
       "1889-01-05 12:00:00 -35.439867 -33.574619  141.5625  143.4375   4.270161e-13   \n",
       "\n",
       "                               model  \n",
       "time                                  \n",
       "1889-01-01 12:00:00  MPI-ESM-1-2-HAM  \n",
       "1889-01-02 12:00:00  MPI-ESM-1-2-HAM  \n",
       "1889-01-03 12:00:00  MPI-ESM-1-2-HAM  \n",
       "1889-01-04 12:00:00  MPI-ESM-1-2-HAM  \n",
       "1889-01-05 12:00:00  MPI-ESM-1-2-HAM  "
      ]
     },
     "execution_count": 9,
     "metadata": {},
     "output_type": "execute_result"
    }
   ],
   "source": [
    "df.head()"
   ]
  },
  {
   "cell_type": "code",
   "execution_count": 10,
   "id": "d0655d99",
   "metadata": {},
   "outputs": [
    {
     "name": "stdout",
     "output_type": "stream",
     "text": [
      "<class 'pandas.core.frame.DataFrame'>\n",
      "DatetimeIndex: 62467843 entries, 1889-01-01 12:00:00 to 2014-12-31 12:00:00\n",
      "Data columns (total 6 columns):\n",
      " #   Column         Dtype  \n",
      "---  ------         -----  \n",
      " 0   lat_min        float64\n",
      " 1   lat_max        float64\n",
      " 2   lon_min        float64\n",
      " 3   lon_max        float64\n",
      " 4   rain (mm/day)  float64\n",
      " 5   model          object \n",
      "dtypes: float64(5), object(1)\n",
      "memory usage: 3.3+ GB\n"
     ]
    }
   ],
   "source": [
    "df.info()"
   ]
  },
  {
   "cell_type": "code",
   "execution_count": 11,
   "id": "0782c3d8",
   "metadata": {},
   "outputs": [
    {
     "data": {
      "text/plain": [
       "lat_min          float64\n",
       "lat_max          float64\n",
       "lon_min          float64\n",
       "lon_max          float64\n",
       "rain (mm/day)    float64\n",
       "model             object\n",
       "dtype: object"
      ]
     },
     "execution_count": 11,
     "metadata": {},
     "output_type": "execute_result"
    }
   ],
   "source": [
    "df.dtypes"
   ]
  },
  {
   "cell_type": "markdown",
   "id": "0f00be96",
   "metadata": {},
   "source": [
    "## Combine data csv on different machines"
   ]
  },
  {
   "cell_type": "markdown",
   "id": "7c915a9c",
   "metadata": {},
   "source": [
    "| Team Member            | Operating System | RAM | Processor | Is SSD | Time taken |\n",
    "|:----------------------:|:----------------:|:---:|:---------:|:------:|:----------:|\n",
    "| Kingslin Lv            | Windows          | 16GB|    i7      | Yes     | 15min 15s   |\n",
    "| Sufang Tan             |  Mac OS   |    16GB       |  i7      | Yes    | 08min 16s\n",
    "| Amir Abbas Shojakhani  |Mac OS     |16GB           |i7       |Yes           |08min 50s |"
   ]
  },
  {
   "cell_type": "markdown",
   "id": "07395f0c",
   "metadata": {},
   "source": [
    "# EDA-Python"
   ]
  },
  {
   "cell_type": "markdown",
   "id": "219803cd-47de-459e-b0e6-16cce8b64dd2",
   "metadata": {},
   "source": [
    "## 1st Approach - Changing dtype of the data"
   ]
  },
  {
   "cell_type": "markdown",
   "id": "f43b89c4-ab11-493a-ac93-50ecf9f7e5aa",
   "metadata": {},
   "source": [
    "### Value counts with base data types"
   ]
  },
  {
   "cell_type": "code",
   "execution_count": 12,
   "id": "65ad9a5c-1691-4ae8-96b6-45dd768e6b0d",
   "metadata": {},
   "outputs": [
    {
     "name": "stdout",
     "output_type": "stream",
     "text": [
      "CPU times: user 1min 10s, sys: 15.2 s, total: 1min 26s\n",
      "Wall time: 1min 28s\n"
     ]
    },
    {
     "data": {
      "text/plain": [
       "lat_min  lat_max  lon_min   lon_max   rain (mm/day)  model        \n",
       "-30.625  -29.375  141.5625  143.4375  0.000000       ACCESS-ESM1-5    15271\n",
       "-31.875  -30.625  141.5625  143.4375  0.000000       ACCESS-ESM1-5    13850\n",
       "-30.625  -29.375  143.4375  145.3125  0.000000       ACCESS-ESM1-5    13615\n",
       "-31.875  -30.625  143.4375  145.3125  0.000000       ACCESS-ESM1-5    12638\n",
       "-33.125  -31.875  141.5625  143.4375  0.000000       ACCESS-ESM1-5    12112\n",
       "                                                                      ...  \n",
       "-34.000  -33.000  148.7500  150.0000  0.000702       GFDL-CM4             1\n",
       "                                      0.000704       GFDL-CM4             1\n",
       "                                                     GFDL-CM4             1\n",
       "                                                     GFDL-CM4             1\n",
       "-29.900  -29.100  152.7250  153.5250  199.089043     FGOALS-f3-L          1\n",
       "Length: 55839634, dtype: int64"
      ]
     },
     "execution_count": 12,
     "metadata": {},
     "output_type": "execute_result"
    }
   ],
   "source": [
    "%%time\n",
    "df.value_counts()"
   ]
  },
  {
   "cell_type": "markdown",
   "id": "74561442-c12d-4e39-9deb-277a10dd67f9",
   "metadata": {},
   "source": [
    "Value counts with dtype conversion from float64 to float32"
   ]
  },
  {
   "cell_type": "code",
   "execution_count": 13,
   "id": "2b7c6e2e-fb69-4799-812f-01a26fac730f",
   "metadata": {},
   "outputs": [],
   "source": [
    "df_conv = df.copy()\n",
    "df_conv['lat_min'] = np.float32(df_conv[\"lat_min\"])\n",
    "df_conv['lat_max'] = np.float32(df_conv[\"lat_max\"])\n",
    "df_conv['lon_min'] = np.float32(df_conv[\"lon_min\"])\n",
    "df_conv['lon_max'] = np.float32(df_conv[\"lon_max\"])"
   ]
  },
  {
   "cell_type": "code",
   "execution_count": 14,
   "id": "583bef13-47fe-4a10-b4d8-d7ab9a1d3d23",
   "metadata": {},
   "outputs": [
    {
     "name": "stdout",
     "output_type": "stream",
     "text": [
      "CPU times: user 1min 8s, sys: 14.7 s, total: 1min 22s\n",
      "Wall time: 1min 25s\n"
     ]
    },
    {
     "data": {
      "text/plain": [
       "lat_min  lat_max  lon_min   lon_max   rain (mm/day)  model        \n",
       "-30.625  -29.375  141.5625  143.4375  0.000000       ACCESS-ESM1-5    15271\n",
       "-31.875  -30.625  141.5625  143.4375  0.000000       ACCESS-ESM1-5    13850\n",
       "-30.625  -29.375  143.4375  145.3125  0.000000       ACCESS-ESM1-5    13615\n",
       "-31.875  -30.625  143.4375  145.3125  0.000000       ACCESS-ESM1-5    12638\n",
       "-33.125  -31.875  141.5625  143.4375  0.000000       ACCESS-ESM1-5    12112\n",
       "                                                                      ...  \n",
       "-34.000  -33.000  148.7500  150.0000  0.000702       GFDL-CM4             1\n",
       "                                      0.000704       GFDL-CM4             1\n",
       "                                                     GFDL-CM4             1\n",
       "                                                     GFDL-CM4             1\n",
       "-29.900  -29.100  152.7250  153.5250  199.089043     FGOALS-f3-L          1\n",
       "Length: 55839634, dtype: int64"
      ]
     },
     "execution_count": 14,
     "metadata": {},
     "output_type": "execute_result"
    }
   ],
   "source": [
    "%%time\n",
    "df.value_counts()"
   ]
  },
  {
   "cell_type": "markdown",
   "id": "413e6f8d-e40e-49eb-825a-3f37890de734",
   "metadata": {},
   "source": [
    "## 2nd Approach - Load just columns we want"
   ]
  },
  {
   "cell_type": "code",
   "execution_count": 15,
   "id": "86874341-fe07-48c5-82f8-9439a05a4156",
   "metadata": {},
   "outputs": [
    {
     "data": {
      "text/html": [
       "<div>\n",
       "<style scoped>\n",
       "    .dataframe tbody tr th:only-of-type {\n",
       "        vertical-align: middle;\n",
       "    }\n",
       "\n",
       "    .dataframe tbody tr th {\n",
       "        vertical-align: top;\n",
       "    }\n",
       "\n",
       "    .dataframe thead th {\n",
       "        text-align: right;\n",
       "    }\n",
       "</style>\n",
       "<table border=\"1\" class=\"dataframe\">\n",
       "  <thead>\n",
       "    <tr style=\"text-align: right;\">\n",
       "      <th></th>\n",
       "      <th>lat_min</th>\n",
       "      <th>lat_max</th>\n",
       "      <th>lon_min</th>\n",
       "      <th>lon_max</th>\n",
       "    </tr>\n",
       "  </thead>\n",
       "  <tbody>\n",
       "    <tr>\n",
       "      <th>0</th>\n",
       "      <td>-35.439867</td>\n",
       "      <td>-33.574619</td>\n",
       "      <td>141.5625</td>\n",
       "      <td>143.4375</td>\n",
       "    </tr>\n",
       "    <tr>\n",
       "      <th>1</th>\n",
       "      <td>-35.439867</td>\n",
       "      <td>-33.574619</td>\n",
       "      <td>141.5625</td>\n",
       "      <td>143.4375</td>\n",
       "    </tr>\n",
       "    <tr>\n",
       "      <th>2</th>\n",
       "      <td>-35.439867</td>\n",
       "      <td>-33.574619</td>\n",
       "      <td>141.5625</td>\n",
       "      <td>143.4375</td>\n",
       "    </tr>\n",
       "    <tr>\n",
       "      <th>3</th>\n",
       "      <td>-35.439867</td>\n",
       "      <td>-33.574619</td>\n",
       "      <td>141.5625</td>\n",
       "      <td>143.4375</td>\n",
       "    </tr>\n",
       "    <tr>\n",
       "      <th>4</th>\n",
       "      <td>-35.439867</td>\n",
       "      <td>-33.574619</td>\n",
       "      <td>141.5625</td>\n",
       "      <td>143.4375</td>\n",
       "    </tr>\n",
       "  </tbody>\n",
       "</table>\n",
       "</div>"
      ],
      "text/plain": [
       "     lat_min    lat_max   lon_min   lon_max\n",
       "0 -35.439867 -33.574619  141.5625  143.4375\n",
       "1 -35.439867 -33.574619  141.5625  143.4375\n",
       "2 -35.439867 -33.574619  141.5625  143.4375\n",
       "3 -35.439867 -33.574619  141.5625  143.4375\n",
       "4 -35.439867 -33.574619  141.5625  143.4375"
      ]
     },
     "execution_count": 15,
     "metadata": {},
     "output_type": "execute_result"
    }
   ],
   "source": [
    "df_reduced = df[['lat_min', 'lat_max', 'lon_min', 'lon_max']]\n",
    "df_reduced = df_reduced.reset_index().drop('time', axis=1)\n",
    "df_reduced.head()"
   ]
  },
  {
   "cell_type": "code",
   "execution_count": 16,
   "id": "0c30ec0e-d392-48d9-834d-7ba4a6bb520f",
   "metadata": {},
   "outputs": [
    {
     "name": "stdout",
     "output_type": "stream",
     "text": [
      "CPU times: user 6.11 s, sys: 2.76 s, total: 8.88 s\n",
      "Wall time: 9.17 s\n"
     ]
    },
    {
     "data": {
      "text/plain": [
       "lat_min     lat_max     lon_min    lon_max  \n",
       "-32.984293  -32.041885  148.12500  149.37500    275939\n",
       "-32.041885  -31.099476  146.87500  148.12500    275939\n",
       "                        143.12500  144.37500    275939\n",
       "-32.984293  -32.041885  146.87500  148.12500    275939\n",
       "-32.041885  -31.099476  144.37500  145.62500    275939\n",
       "                                                 ...  \n",
       "-33.000000  -32.000000  143.75000  145.00000     45990\n",
       "                        142.50000  143.75000     45990\n",
       "                        141.25000  142.50000     45990\n",
       "-33.487232  -30.696652  150.46875  153.28125     45990\n",
       "-29.900000  -29.100000  152.72500  153.52500     45990\n",
       "Length: 897, dtype: int64"
      ]
     },
     "execution_count": 16,
     "metadata": {},
     "output_type": "execute_result"
    }
   ],
   "source": [
    "%%time\n",
    "df_reduced.value_counts()"
   ]
  },
  {
   "cell_type": "markdown",
   "id": "6bc37e72-62bf-484b-8047-d52bc9e192b7",
   "metadata": {},
   "source": [
    "| Team Member | Operating System | RAM | Processor | Is SSD | Time taken for EDA on base dataframe |Time taken for EDA after changing dtypes|Time taken for EDA after reducing features|\n",
    "|:--------------:|:----------------:|:---:|:---------:|:------:|:----------:|----------:|----------:|\n",
    "| Kingslin Lv | Windows| 16GB| i7 | Yes |02min 34s|02min 13s|7.33s|\n",
    "| Sufang Tan|  Mac OS|16GB |i7 | Yes|1min 28s|1min 25s| 9.17 s|\n",
    "| Amir Abbas Shojakhani |Mac OS|16GB|i7|Yes|01min 47s|01min 49s|01min 53s|"
   ]
  },
  {
   "cell_type": "markdown",
   "id": "5257d223-bfd7-4cfa-87bd-e3073d3f555b",
   "metadata": {},
   "source": [
    "# EDA-R"
   ]
  },
  {
   "cell_type": "markdown",
   "id": "2c47d479-faf2-4890-b572-6722fe3b557c",
   "metadata": {},
   "source": [
    "## Convert CSV to parquet file "
   ]
  },
  {
   "cell_type": "code",
   "execution_count": 8,
   "id": "27e12f73-4de9-478d-9d95-8c1f5ba99cf1",
   "metadata": {},
   "outputs": [],
   "source": [
    "df.to_parquet(\"figshareclimate_data/combined_data.parquet\")"
   ]
  },
  {
   "cell_type": "markdown",
   "id": "734f38a3-e77e-4b7f-a0dd-a932fe51a3b4",
   "metadata": {},
   "source": [
    "### Reason of choosing parquet file "
   ]
  },
  {
   "cell_type": "markdown",
   "id": "cf20c159-546d-4cc8-b0c9-ae8b751014e5",
   "metadata": {},
   "source": [
    "1. Parquet file have high efficiency in data compression and decompression. It is made possible by various encoding techniques and compression schemes.\n",
    "2. Parquet is easily work with arrow to read into R \n",
    "3. parquet file has properties like projection pushdown and predicate pushdown.\n",
    "4. Parquet file is a hybrid file-format and it's a splittable file. \n",
    "5. Parquet is considered defacto for efficient long-term file storage."
   ]
  },
  {
   "cell_type": "markdown",
   "id": "dcc017fa-d7c9-43ed-9a10-421d22034b4b",
   "metadata": {},
   "source": [
    "## EDA in R"
   ]
  },
  {
   "cell_type": "code",
   "execution_count": 1,
   "id": "db28d27b-0111-4fed-9cff-8e9e2382cdf6",
   "metadata": {},
   "outputs": [],
   "source": [
    "%load_ext rpy2.ipython"
   ]
  },
  {
   "cell_type": "code",
   "execution_count": 2,
   "id": "0a56994f-020e-41dc-945b-a0b6aa012845",
   "metadata": {},
   "outputs": [],
   "source": [
    "%%R\n",
    "library(\"arrow\", warn.conflicts = FALSE)\n",
    "library(\"dplyr\", warn.conflicts = FALSE)"
   ]
  },
  {
   "cell_type": "code",
   "execution_count": 3,
   "id": "cfafcf56-2087-4e0b-91bc-8da9ce976f26",
   "metadata": {},
   "outputs": [
    {
     "name": "stdout",
     "output_type": "stream",
     "text": [
      "CPU times: user 38.2 ms, sys: 6.68 ms, total: 44.9 ms\n",
      "Wall time: 45.7 ms\n"
     ]
    }
   ],
   "source": [
    "%%time\n",
    "%%R\n",
    "ds <- open_dataset(\"figshareclimate_data/combined_data.parquet\")"
   ]
  },
  {
   "cell_type": "markdown",
   "id": "68f6f439-4ec2-43af-b73b-d65990c1aa24",
   "metadata": {},
   "source": [
    "Select lat_max ,lat_min, lon_min, and lon_max and count number of rows"
   ]
  },
  {
   "cell_type": "code",
   "execution_count": 37,
   "id": "f84ae7e8-1df7-4787-a566-c17903f5da68",
   "metadata": {},
   "outputs": [
    {
     "name": "stdout",
     "output_type": "stream",
     "text": [
      "CPU times: user 15.1 ms, sys: 1.91 ms, total: 17.1 ms\n",
      "Wall time: 15.8 ms\n"
     ]
    }
   ],
   "source": [
    "%%time\n",
    "%%R\n",
    "result_query <- ds %>%\n",
    "    select(lat_min,lat_max,lon_min,lon_max) %>%\n",
    "    count()"
   ]
  },
  {
   "cell_type": "code",
   "execution_count": 38,
   "id": "aca01219-179c-488a-bded-324ec827ce97",
   "metadata": {},
   "outputs": [
    {
     "name": "stdout",
     "output_type": "stream",
     "text": [
      "# A tibble: 1 × 1\n",
      "         n\n",
      "     <int>\n",
      "1 62467843\n"
     ]
    }
   ],
   "source": [
    "%%R\n",
    "result <- result_query %>% collect\n",
    "print(result)"
   ]
  }
 ],
 "metadata": {
  "interpreter": {
   "hash": "8941477f0483abbc359bb5aea3a7a41e4eb67465ccc023fc86439211c0b95b90"
  },
  "kernelspec": {
   "display_name": "Python [conda env:525_2022]",
   "language": "python",
   "name": "conda-env-525_2022-py"
  },
  "language_info": {
   "codemirror_mode": {
    "name": "ipython",
    "version": 3
   },
   "file_extension": ".py",
   "mimetype": "text/x-python",
   "name": "python",
   "nbconvert_exporter": "python",
   "pygments_lexer": "ipython3",
   "version": "3.8.6"
  }
 },
 "nbformat": 4,
 "nbformat_minor": 5
}
